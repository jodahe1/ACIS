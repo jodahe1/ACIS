{
 "cells": [
  {
   "cell_type": "code",
   "execution_count": 6,
   "metadata": {},
   "outputs": [],
   "source": [
    "import pandas as pd \n",
    "from scipy import stats\n",
    "import matplotlib.pyplot as plt\n"
   ]
  },
  {
   "cell_type": "code",
   "execution_count": 3,
   "metadata": {},
   "outputs": [],
   "source": [
    "file_path = \"../Data/MachineLearningRating_v3.txt\"\n",
    "\n",
    "df = pd.read_csv(file_path, sep='|', low_memory=False)"
   ]
  },
  {
   "cell_type": "code",
   "execution_count": 7,
   "metadata": {},
   "outputs": [],
   "source": [
    "def test_hypothesis(group_a, group_b, feature, kpi, hypothesis_count):\n",
    "    \"\"\"\n",
    "    Performs a two-sample t-test to compare the means of two groups.\n",
    "\n",
    "    Args:\n",
    "      group_a: Data for group A.\n",
    "      group_b: Data for group B.\n",
    "      feature: Feature being tested.\n",
    "      kpi: Key performance indicator.\n",
    "      hypothesis_count: Counter variable for the number of hypotheses displayed.\n",
    "\n",
    "    Returns:\n",
    "      p-value from the t-test.\n",
    "    \"\"\"\n",
    "\n",
    "    # Perform t-test\n",
    "    p_value = stats.ttest_ind(group_a[kpi], group_b[kpi]).pvalue\n",
    "\n",
    "    # Increment hypothesis count\n",
    "    hypothesis_count += 1\n",
    "\n",
    "    print(f\"Hypothesis Test {hypothesis_count} for {feature}:\")\n",
    "    print(f\"  - p-value: {p_value:.4f}\")\n",
    "    if p_value < 0.05:\n",
    "        print(\"  - Reject the null hypothesis: There is a significant difference in risk.\")\n",
    "    else:\n",
    "        print(\"  - Fail to reject the null hypothesis: No significant difference in risk found.\")\n",
    "    print(\"-\" * 40)"
   ]
  },
  {
   "cell_type": "code",
   "execution_count": 8,
   "metadata": {},
   "outputs": [
    {
     "name": "stdout",
     "output_type": "stream",
     "text": [
      "Hypothesis Test 1 for Gauteng vs. KwaZulu-Natal:\n",
      "  - p-value: 0.1928\n",
      "  - Fail to reject the null hypothesis: No significant difference in risk found.\n",
      "----------------------------------------\n",
      "Hypothesis Test 2 for Gauteng vs. Mpumalanga:\n",
      "  - p-value: 0.0011\n",
      "  - Reject the null hypothesis: There is a significant difference in risk.\n",
      "----------------------------------------\n",
      "Hypothesis Test 3 for Gauteng vs. Eastern Cape:\n",
      "  - p-value: 0.0398\n",
      "  - Reject the null hypothesis: There is a significant difference in risk.\n",
      "----------------------------------------\n",
      "Hypothesis Test 4 for Gauteng vs. Western Cape:\n",
      "  - p-value: 0.0563\n",
      "  - Fail to reject the null hypothesis: No significant difference in risk found.\n",
      "----------------------------------------\n",
      "Hypothesis Test 5 for Gauteng vs. Limpopo:\n",
      "  - p-value: 0.0325\n",
      "  - Reject the null hypothesis: There is a significant difference in risk.\n",
      "----------------------------------------\n"
     ]
    }
   ],
   "source": [
    "# 1. Risk Differences Across Provinces\n",
    "# -------------------------------------\n",
    "\n",
    "# Group data by province\n",
    "provinces = df['Province'].unique()\n",
    "hypothesis_count = 0\n",
    "for i in range(len(provinces)):\n",
    "    for j in range(i + 1, len(provinces)):\n",
    "        if hypothesis_count >= 5:\n",
    "            break\n",
    "        province_a = provinces[i]\n",
    "        province_b = provinces[j]\n",
    "        group_a = df[df['Province'] == province_a]\n",
    "        group_b = df[df['Province'] == province_b]\n",
    "        test_hypothesis(group_a, group_b, f\"{province_a} vs. {province_b}\", 'TotalClaims', hypothesis_count)\n",
    "        hypothesis_count += 1\n",
    "    if hypothesis_count >= 5:\n",
    "        break\n",
    "\n",
    "# Repeat the same modification for the remaining hypothesis testing sections (2-5)"
   ]
  },
  {
   "cell_type": "code",
   "execution_count": 10,
   "metadata": {},
   "outputs": [
    {
     "name": "stdout",
     "output_type": "stream",
     "text": [
      "Hypothesis Test 6 for Female vs. Male:\n",
      "  - p-value: 0.8041\n",
      "  - Fail to reject the null hypothesis: No significant difference in risk found.\n",
      "----------------------------------------\n"
     ]
    }
   ],
   "source": [
    "# 3. Risk Difference Between Women and Men\n",
    "# -----------------------------------------\n",
    "\n",
    "# Group data by gender\n",
    "group_female = df[df['Gender'] == 'Female']\n",
    "group_male = df[df['Gender'] == 'Male']\n",
    "test_hypothesis(group_female, group_male, \"Female vs. Male\", 'TotalClaims', hypothesis_count)\n",
    "hypothesis_count += 1"
   ]
  },
  {
   "cell_type": "code",
   "execution_count": 11,
   "metadata": {},
   "outputs": [],
   "source": [
    "# 4. Risk Differences Across Vehicle Types\n",
    "# -----------------------------------------\n",
    "\n",
    "vehicle_types = df['VehicleType'].unique()\n",
    "for i in range(len(vehicle_types)):\n",
    "    for j in range(i + 1, len(vehicle_types)):\n",
    "        if hypothesis_count >= 5:\n",
    "            break\n",
    "        vehicle_a = vehicle_types[i]\n",
    "        vehicle_b = vehicle_types[j]\n",
    "        group_a = df[df['VehicleType'] == vehicle_a]\n",
    "        group_b = df[df['VehicleType'] == vehicle_b]\n",
    "        test_hypothesis(group_a, group_b, f\"{vehicle_a} vs. {vehicle_b}\", 'TotalClaims', hypothesis_count)\n",
    "        hypothesis_count += 1\n",
    "    if hypothesis_count >= 5:\n",
    "        break"
   ]
  }
 ],
 "metadata": {
  "kernelspec": {
   "display_name": "base",
   "language": "python",
   "name": "python3"
  },
  "language_info": {
   "codemirror_mode": {
    "name": "ipython",
    "version": 3
   },
   "file_extension": ".py",
   "mimetype": "text/x-python",
   "name": "python",
   "nbconvert_exporter": "python",
   "pygments_lexer": "ipython3",
   "version": "3.11.7"
  }
 },
 "nbformat": 4,
 "nbformat_minor": 2
}
